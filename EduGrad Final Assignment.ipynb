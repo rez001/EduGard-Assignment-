{
 "cells": [
  {
   "cell_type": "code",
   "execution_count": null,
   "metadata": {},
   "outputs": [],
   "source": [
    "# Q.1) With a given integral number n, write a program to generate a dictionary that contains (i, i*i) such that\n",
    "# is an integral number between 1 and n (both included). and then the program should print the dictionary.\n",
    " "
   ]
  },
  {
   "cell_type": "code",
   "execution_count": null,
   "metadata": {},
   "outputs": [],
   "source": [
    "num = int(input(\"Enter a Integral number: \"))\n",
    "\n",
    "output_dict = {}\n",
    "\n",
    "for i in range(0, num):\n",
    "    i = i+1\n",
    "    output_dict[i] = i*i \n",
    "    \n",
    "print(output_dict)"
   ]
  },
  {
   "cell_type": "code",
   "execution_count": null,
   "metadata": {},
   "outputs": [],
   "source": [
    "# Q.2) Write a Python program to create the multiplication table (from 1 to 10) of a number.\n"
   ]
  },
  {
   "cell_type": "code",
   "execution_count": null,
   "metadata": {},
   "outputs": [],
   "source": [
    "num = int(input(\"Times table: \"))\n",
    "for i in range(1, 11):\n",
    "    print(i, 'X', num , '=', i*num)"
   ]
  },
  {
   "cell_type": "code",
   "execution_count": null,
   "metadata": {},
   "outputs": [],
   "source": [
    "# Q.3) Write a program to add all the numbers of a List.\n",
    "# Given the numbers 6, 50, 100, 7000. Store them in a List called items.\n",
    "\n",
    "# Store the sum of all the numbers in the List items into a variable called total.\n",
    "# Print the sum on the screen using the variable total.\n"
   ]
  },
  {
   "cell_type": "code",
   "execution_count": null,
   "metadata": {},
   "outputs": [],
   "source": [
    "items = [6, 50, 100, 7000]\n",
    "total = 0\n",
    "\n",
    "for element in items:\n",
    "    total += element\n",
    "    \n",
    "print(total)\n"
   ]
  },
  {
   "cell_type": "code",
   "execution_count": null,
   "metadata": {},
   "outputs": [],
   "source": [
    "\n",
    "# Q.4) a) Ask user to enter name, age, city and course using comma as a separator. Store these values in a tuple called student\n",
    "\n",
    "# b) Store the count of total number of elements present in the tuple student in a variable called tup_count. Display the value of tup_count on the screen\n",
    "\n",
    "# c) Using the tuple variable student, store the student data in separate variables namely s_name,s_age,s_city and s_course.\n",
    "\n",
    "# d) Display the student information on the screen using the four variables created above.\n"
   ]
  },
  {
   "cell_type": "code",
   "execution_count": null,
   "metadata": {},
   "outputs": [],
   "source": [
    "name = input(\"Enter Name: \")\n",
    "age = int(input(\"Age: \"))\n",
    "city = input(\"City: \")\n",
    "course = input(\"Course: \")\n",
    "student = (name, age, city, course)\n",
    "student\n"
   ]
  },
  {
   "cell_type": "code",
   "execution_count": null,
   "metadata": {},
   "outputs": [],
   "source": [
    "tup_count = len(student)\n",
    "tup_count"
   ]
  },
  {
   "cell_type": "code",
   "execution_count": null,
   "metadata": {},
   "outputs": [],
   "source": [
    "s_name = student[0]\n",
    "s_age = student[1]\n",
    "s_city = student[2]\n",
    "s_course = student[3]\n"
   ]
  },
  {
   "cell_type": "code",
   "execution_count": null,
   "metadata": {},
   "outputs": [],
   "source": [
    "s_student = (s_name, s_age, s_city, s_course)\n",
    "s_student"
   ]
  },
  {
   "cell_type": "code",
   "execution_count": null,
   "metadata": {},
   "outputs": [],
   "source": [
    "# Q.5) a) Create a dictionary variable called colors in Python having keys as col1, col2 and col3 containing values Red, Blue, Yellow respectively.\n",
    "\n",
    "# b) Add another key col4 into the colors Dictionary having value as Green.\n",
    "\n",
    "# c) Update the col2 values as Orange\n",
    "\n",
    "# d) Print the dictionary on the screen\n",
    "\n",
    "# e) Create a new Dictionary object colors_new from the colors Dictionary, having the keys col1 and col2\n",
    "# Instruction – Use the fromkeys() method\n",
    "\n",
    "# f) Print all the values of both the Dictionary colors and colors_new on the screen.\n",
    "\n",
    "# g) Remove all the elements from the Dictionary colors and print its content on the screen. (It should print an empty Dictionary)\n",
    "\n",
    "# h) Print the value of key col2 from the Dictionary colors_new on the screen"
   ]
  },
  {
   "cell_type": "code",
   "execution_count": 1,
   "metadata": {},
   "outputs": [],
   "source": [
    "colors = {'col1':'Red', 'col2':'Blue', 'col3':'Yellow'}\n"
   ]
  },
  {
   "cell_type": "code",
   "execution_count": 2,
   "metadata": {},
   "outputs": [],
   "source": [
    "colors['col4'] = 'Green'\n"
   ]
  },
  {
   "cell_type": "code",
   "execution_count": 3,
   "metadata": {},
   "outputs": [
    {
     "data": {
      "text/plain": [
       "{'col1': 'Red', 'col2': 'Orange', 'col3': 'Yellow', 'col4': 'Green'}"
      ]
     },
     "execution_count": 3,
     "metadata": {},
     "output_type": "execute_result"
    }
   ],
   "source": [
    "colors['col2'] = 'Orange'\n",
    "colors\n"
   ]
  },
  {
   "cell_type": "code",
   "execution_count": 7,
   "metadata": {},
   "outputs": [],
   "source": [
    "colors_new = dict.fromkeys(colors)\n",
    "\n",
    "del colors_new['col3']"
   ]
  },
  {
   "cell_type": "code",
   "execution_count": 8,
   "metadata": {},
   "outputs": [],
   "source": [
    "del colors_new['col4']\n",
    "\n"
   ]
  },
  {
   "cell_type": "code",
   "execution_count": 18,
   "metadata": {},
   "outputs": [
    {
     "name": "stdout",
     "output_type": "stream",
     "text": [
      "{}\n",
      "{'col1': None, 'col2': None}\n"
     ]
    }
   ],
   "source": [
    "print(colors)\n",
    "print(colors_new)"
   ]
  },
  {
   "cell_type": "code",
   "execution_count": 19,
   "metadata": {},
   "outputs": [
    {
     "data": {
      "text/plain": [
       "{}"
      ]
     },
     "execution_count": 19,
     "metadata": {},
     "output_type": "execute_result"
    }
   ],
   "source": [
    "colors.clear()\n",
    "colors"
   ]
  },
  {
   "cell_type": "code",
   "execution_count": 20,
   "metadata": {},
   "outputs": [],
   "source": [
    "colors_new['col2']"
   ]
  },
  {
   "cell_type": "code",
   "execution_count": null,
   "metadata": {},
   "outputs": [],
   "source": [
    "# Q.6) Using range() function, make a list containing all the prime numbers between 1 to 100."
   ]
  },
  {
   "cell_type": "code",
   "execution_count": null,
   "metadata": {},
   "outputs": [],
   "source": [
    "prime_list = []\n",
    "\n",
    "for count in range(1,101):\n",
    "    if count > 1:\n",
    "        for j in range(2, count):\n",
    "            if (count % j) == 0:\n",
    "                break\n",
    "        else:\n",
    "             prime_list.append(count)\n",
    "                \n",
    "    \n",
    "    \n",
    "print(prime_list)"
   ]
  },
  {
   "cell_type": "code",
   "execution_count": null,
   "metadata": {},
   "outputs": [],
   "source": [
    "# Q.7) Write a Python function called ftn_count_upper_lower that accepts a string and calculate the\n",
    "\n",
    "# number of uppercase letters and lowercase letters.\n",
    "\n",
    "# Sample String : &amp;#39;Hello My name is Ram&amp;#39;\n",
    "\n",
    "# Expected Output :\n",
    "# No. of Uppercase characters : 3\n",
    "\n",
    "# No. of Lowercase Characters : 13\n",
    "\n",
    "# (Hint:- Make use of islower() or isupper() function\n",
    "# to check whether character of string entered is in lowercase or uppercase respectively.)"
   ]
  },
  {
   "cell_type": "code",
   "execution_count": null,
   "metadata": {},
   "outputs": [],
   "source": [
    "sentence = input(\"Write a sentence: \")\n",
    "\n",
    "\n",
    "count = 0\n",
    "countup = 0\n",
    "for i in sentence:\n",
    "    \n",
    "    if (i.islower()):\n",
    "        count = count+1\n",
    "        \n",
    "    if(i.isupper()):\n",
    "        countup = countup +1\n",
    "        \n",
    "        \n",
    "print(\"No. of Uppercase characters :\" + str(countup))\n",
    "print(\"No. of Lowercase characters :\" + str(count))\n"
   ]
  },
  {
   "cell_type": "code",
   "execution_count": null,
   "metadata": {},
   "outputs": [],
   "source": [
    "# Q.8) In a company named XYZ, employee data is recorded in a spreadsheet called “employee_list.csv”.\n",
    "\n",
    "# Few more people have joined this company and their data is stored in a file “new_records.csv”.\n",
    "# This data has to be added in the “employee_list.csv” based on following condition -\n",
    "\n",
    "# a) The format of “employee_list.csv” is employee code, first name, last name, home city, age, current city\n",
    "\n",
    "# b) The format of “new_records.csv” is employee code, full name, home city, age, current city\n",
    "\n",
    "# c) The employee code column in “new_records.csv” is prefixed by a three digit code related to\n",
    "\n",
    "# type of employee as defined below\n",
    "\n",
    "# emp – for permanent employees\n",
    "\n",
    "# other than emp – for contractual and other type of employees\n",
    "\n",
    "\n",
    "\n",
    "# d) Add only the permanant employees in the employee_list.csv\n",
    "\n",
    "# e) Create a new separate file for the contractual and other type of employees, file name will be “contractors_list.csv”\n",
    "\n",
    "# f) the employee code recorded in the employee_list.csv will be only integer, you need to remove character prefixed to the employee code\n",
    "\n",
    "# g)handle the file and number-type exceptions wherever appropriate"
   ]
  },
  {
   "cell_type": "code",
   "execution_count": null,
   "metadata": {},
   "outputs": [],
   "source": [
    "import pandas as pd\n",
    "import numpy as np\n",
    "employee_list = pd.read_csv(\"C:/Users/Acer/Desktop/1553497424_Dataset_Final_set/employee_list.csv\", header = None)\n",
    "new_list = pd.read_csv(\"C:/Users/Acer/Desktop/1553497424_Dataset_Final_set/new_records.csv\", header = None)"
   ]
  },
  {
   "cell_type": "code",
   "execution_count": null,
   "metadata": {},
   "outputs": [],
   "source": [
    "employee_list.head()"
   ]
  },
  {
   "cell_type": "code",
   "execution_count": null,
   "metadata": {},
   "outputs": [],
   "source": [
    "employee_list.columns = ['code', 'fast name', 'last name', 'home city', 'age', 'current city']"
   ]
  },
  {
   "cell_type": "code",
   "execution_count": null,
   "metadata": {},
   "outputs": [],
   "source": [
    "employee_list.head()"
   ]
  },
  {
   "cell_type": "code",
   "execution_count": null,
   "metadata": {},
   "outputs": [],
   "source": [
    "new_list.columns = ['code', 'full name', 'home city', 'age', 'current city']\n",
    "new_list.head()"
   ]
  },
  {
   "cell_type": "code",
   "execution_count": null,
   "metadata": {},
   "outputs": [],
   "source": [
    " new = new_list['full name'].str.split(n=1, expand= True)"
   ]
  },
  {
   "cell_type": "code",
   "execution_count": null,
   "metadata": {},
   "outputs": [],
   "source": [
    "new_list['fast name'] = new[0]\n",
    "new_list['last name'] = new[1]"
   ]
  },
  {
   "cell_type": "code",
   "execution_count": null,
   "metadata": {},
   "outputs": [],
   "source": [
    "new_list.drop(columns = ['full name'], inplace = True)"
   ]
  },
  {
   "cell_type": "code",
   "execution_count": null,
   "metadata": {},
   "outputs": [],
   "source": [
    "new_list.head()"
   ]
  },
  {
   "cell_type": "code",
   "execution_count": null,
   "metadata": {},
   "outputs": [],
   "source": [
    "new_list['code'] = new_list['code'].str.extract('(e)', expand = False)"
   ]
  },
  {
   "cell_type": "code",
   "execution_count": null,
   "metadata": {},
   "outputs": [],
   "source": [
    "new_list.head()"
   ]
  },
  {
   "cell_type": "code",
   "execution_count": null,
   "metadata": {},
   "outputs": [],
   "source": [
    "new_list.code = new_list.code.fillna('o')\n",
    "new_list.head()"
   ]
  },
  {
   "cell_type": "code",
   "execution_count": null,
   "metadata": {
    "scrolled": true
   },
   "outputs": [],
   "source": [
    "code_mapping = { 'e':1, 'o':0 }\n",
    "new_list['code'] = new_list['code'].map(code_mapping)"
   ]
  },
  {
   "cell_type": "code",
   "execution_count": null,
   "metadata": {},
   "outputs": [],
   "source": [
    "new_list.head()"
   ]
  },
  {
   "cell_type": "code",
   "execution_count": null,
   "metadata": {},
   "outputs": [],
   "source": [
    "per_emp = new_list.loc[new_list.code == 1]\n",
    "per_emp.head()"
   ]
  },
  {
   "cell_type": "code",
   "execution_count": null,
   "metadata": {},
   "outputs": [],
   "source": [
    "employee_list = pd.concat([employee_list, per_emp], ignore_index = True, sort=True)"
   ]
  },
  {
   "cell_type": "code",
   "execution_count": null,
   "metadata": {},
   "outputs": [],
   "source": [
    "employee_list.head()"
   ]
  },
  {
   "cell_type": "code",
   "execution_count": null,
   "metadata": {},
   "outputs": [],
   "source": [
    "contractors_list =  new_list.loc[new_list.code == 0]"
   ]
  },
  {
   "cell_type": "code",
   "execution_count": null,
   "metadata": {},
   "outputs": [],
   "source": [
    "contractors_list.head()"
   ]
  },
  {
   "cell_type": "code",
   "execution_count": null,
   "metadata": {},
   "outputs": [],
   "source": []
  }
 ],
 "metadata": {
  "kernelspec": {
   "display_name": "Python 3",
   "language": "python",
   "name": "python3"
  },
  "language_info": {
   "codemirror_mode": {
    "name": "ipython",
    "version": 3
   },
   "file_extension": ".py",
   "mimetype": "text/x-python",
   "name": "python",
   "nbconvert_exporter": "python",
   "pygments_lexer": "ipython3",
   "version": "3.7.3"
  }
 },
 "nbformat": 4,
 "nbformat_minor": 2
}
